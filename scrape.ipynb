{
 "cells": [
  {
   "cell_type": "code",
   "execution_count": null,
   "metadata": {},
   "outputs": [],
   "source": [
    "%pip install lxml\n",
    "%pip install requests"
   ]
  },
  {
   "cell_type": "code",
   "execution_count": null,
   "metadata": {},
   "outputs": [],
   "source": [
    "### Trustpilot data scraping module \n",
    "### Author: Hakim Khalafi\n",
    "\n",
    "## Imports\n",
    "\n",
    "import math\n",
    "import csv\n",
    "import time\n",
    "import json\n",
    "import requests\n",
    "import lxml.html as html"
   ]
  },
  {
   "cell_type": "code",
   "execution_count": null,
   "metadata": {},
   "outputs": [],
   "source": [
    "## Configurations\n",
    "\n",
    "# Trustpilot review page\n",
    "basePage = 'http://www.trustpilot.com/review/'\n",
    "reviewSite = 'www.skype.com'\n",
    "reviewPage = basePage + reviewSite\n",
    "\n",
    "# Data file to save to\n",
    "datafile = 'dataSkype.csv'\n",
    "\n",
    "# Trustpilot default \n",
    "resultsPerPage = 20 \n",
    "\n",
    "print('Scraper set for ' + reviewPage + ' - saving result to ' + datafile)"
   ]
  },
  {
   "cell_type": "code",
   "execution_count": null,
   "metadata": {},
   "outputs": [],
   "source": [
    "## Count amount of pages to scrape\n",
    "\n",
    "# Get page, skipping HTTPS as it gives certificate errors\n",
    "page = requests.get(reviewPage, verify=False)\n",
    "tree = html.fromstring(page.content)\n",
    "\n",
    "# Total amount of ratings\n",
    "ratingCount = tree.xpath('//span[@class=\"headline__review-count\"]')\n",
    "ratingCount = int(ratingCount[0].text.replace(',',''))\n",
    "\n",
    "# Amount of chunks to consider for displaying processing output \n",
    "# For ex. 10 means output progress for every 10th of the data\n",
    "tot_chunks = 20\n",
    "\n",
    "# Throttling to avoid spamming page with requests\n",
    "# With sleepTime seconds between every page request\n",
    "throttle = True\n",
    "sleepTime = 1\n",
    "\n",
    "# Total pages to scrape\n",
    "pages = math.ceil(ratingCount / resultsPerPage)\n",
    "print('Found total of ' + str(pages) + ' pages to scrape')"
   ]
  },
  {
   "cell_type": "code",
   "execution_count": null,
   "metadata": {},
   "outputs": [],
   "source": [
    "## Main scraping section\n",
    "\n",
    "with open(datafile, 'w', newline='', encoding='utf8') as csvfile:\n",
    "    \n",
    "    # Tab delimited to allow for special characters\n",
    "    datawriter = csv.writer(csvfile, delimiter='\\t')\n",
    "    print('Processing..')\n",
    "    for i in range(1,pages+1):\n",
    "        \n",
    "        # Sleep if throttle enabled\n",
    "        if(throttle): time.sleep(sleepTime)\n",
    "\n",
    "        page = requests.get(reviewPage + '?page=' + str(i))\n",
    "        tree = html.fromstring(page.content)\n",
    "        \n",
    "        # Each item below scrapes a pages review titles, bodies and ratings\n",
    "        script_bodies = tree.xpath(\"//script[starts-with(@data-initial-state, 'review-info')]\")\n",
    "        for idx,elem in enumerate(script_bodies):\n",
    "            curr_item = json.loads(elem.text_content())\n",
    "\n",
    "            # Progress counting, outputs for every processed chunk\n",
    "            reviewNumber = idx + 20*(i-1) + 1\n",
    "            chunk = int(ratingCount / tot_chunks)\n",
    "            if(reviewNumber % chunk == 0): \n",
    "                print('Processed ' + str(reviewNumber) + '/'  + str(ratingCount) + ' ratings')\n",
    "            \n",
    "            title = curr_item[\"reviewHeader\"]\n",
    "            body = curr_item[\"reviewBody\"]\n",
    "            rating = curr_item[\"stars\"]\n",
    "            \n",
    "            datawriter.writerow([title,body,rating])\n",
    "            \n",
    "    print('Processed ' + str(ratingCount) + '/' + str(ratingCount) + ' ratings.. Finished!')"
   ]
  },
  {
   "cell_type": "code",
   "execution_count": null,
   "metadata": {},
   "outputs": [],
   "source": []
  }
 ],
 "metadata": {
  "kernelspec": {
   "display_name": "Python 3",
   "language": "python",
   "name": "python3"
  },
  "language_info": {
   "codemirror_mode": {
    "name": "ipython",
    "version": 3
   },
   "file_extension": ".py",
   "mimetype": "text/x-python",
   "name": "python",
   "nbconvert_exporter": "python",
   "pygments_lexer": "ipython3",
   "version": "3.7.6"
  }
 },
 "nbformat": 4,
 "nbformat_minor": 1
}
